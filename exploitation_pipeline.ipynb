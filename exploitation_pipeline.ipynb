{
 "cells": [
  {
   "cell_type": "code",
   "execution_count": 18,
   "metadata": {},
   "outputs": [],
   "source": [
    "import pandas as pd\n",
    "import pyarrow.parquet as pq\n",
    "import numpy as np\n",
    "from sklearn.preprocessing import MinMaxScaler"
   ]
  },
  {
   "cell_type": "code",
   "execution_count": 19,
   "metadata": {},
   "outputs": [],
   "source": [
    "# Import data\n",
    "incomeOpenData = pq.read_table('./distributedFolder/incomeOpenData/')\n",
    "squareMeterPriceEvolution = pq.read_table('./distributedFolder/squareMeterPriceEvolution/')\n",
    "\n",
    "incomeOpenData = incomeOpenData.to_pandas()\n",
    "squareMeterPriceEvolution = squareMeterPriceEvolution.to_pandas()"
   ]
  },
  {
   "cell_type": "code",
   "execution_count": 20,
   "metadata": {},
   "outputs": [
    {
     "data": {
      "text/html": [
       "<div>\n",
       "<style scoped>\n",
       "    .dataframe tbody tr th:only-of-type {\n",
       "        vertical-align: middle;\n",
       "    }\n",
       "\n",
       "    .dataframe tbody tr th {\n",
       "        vertical-align: top;\n",
       "    }\n",
       "\n",
       "    .dataframe thead th {\n",
       "        text-align: right;\n",
       "    }\n",
       "</style>\n",
       "<table border=\"1\" class=\"dataframe\">\n",
       "  <thead>\n",
       "    <tr style=\"text-align: right;\">\n",
       "      <th></th>\n",
       "      <th>district</th>\n",
       "      <th>neighborhood</th>\n",
       "      <th>year</th>\n",
       "      <th>pop</th>\n",
       "      <th>RFD</th>\n",
       "      <th>preu_m2</th>\n",
       "    </tr>\n",
       "  </thead>\n",
       "  <tbody>\n",
       "    <tr>\n",
       "      <th>0</th>\n",
       "      <td>Eixample</td>\n",
       "      <td>La Nova Esquerra de l'Eixample</td>\n",
       "      <td>2011</td>\n",
       "      <td>57659</td>\n",
       "      <td>107.7</td>\n",
       "      <td>2.314</td>\n",
       "    </tr>\n",
       "    <tr>\n",
       "      <th>1</th>\n",
       "      <td>Eixample</td>\n",
       "      <td>La Nova Esquerra de l'Eixample</td>\n",
       "      <td>2009</td>\n",
       "      <td>58559</td>\n",
       "      <td>114.3</td>\n",
       "      <td>2.973</td>\n",
       "    </tr>\n",
       "    <tr>\n",
       "      <th>2</th>\n",
       "      <td>Eixample</td>\n",
       "      <td>La Nova Esquerra de l'Eixample</td>\n",
       "      <td>2010</td>\n",
       "      <td>58247</td>\n",
       "      <td>115.2</td>\n",
       "      <td>2.802</td>\n",
       "    </tr>\n",
       "    <tr>\n",
       "      <th>3</th>\n",
       "      <td>Eixample</td>\n",
       "      <td>La Nova Esquerra de l'Eixample</td>\n",
       "      <td>2008</td>\n",
       "      <td>58412</td>\n",
       "      <td>116.6</td>\n",
       "      <td>3.337</td>\n",
       "    </tr>\n",
       "    <tr>\n",
       "      <th>4</th>\n",
       "      <td>Sant Martí</td>\n",
       "      <td>La Vila Olímpica del Poblenou</td>\n",
       "      <td>2011</td>\n",
       "      <td>9191</td>\n",
       "      <td>146.0</td>\n",
       "      <td>2.377</td>\n",
       "    </tr>\n",
       "    <tr>\n",
       "      <th>...</th>\n",
       "      <td>...</td>\n",
       "      <td>...</td>\n",
       "      <td>...</td>\n",
       "      <td>...</td>\n",
       "      <td>...</td>\n",
       "      <td>...</td>\n",
       "    </tr>\n",
       "    <tr>\n",
       "      <th>287</th>\n",
       "      <td>Sants-Montjuïc</td>\n",
       "      <td>\"El Poble-sec, Barcelona\"</td>\n",
       "      <td>2008</td>\n",
       "      <td>40381</td>\n",
       "      <td>70.8</td>\n",
       "      <td>2.817</td>\n",
       "    </tr>\n",
       "    <tr>\n",
       "      <th>288</th>\n",
       "      <td>Sant Andreu</td>\n",
       "      <td>Sant Andreu de Palomar</td>\n",
       "      <td>2011</td>\n",
       "      <td>55902</td>\n",
       "      <td>78.0</td>\n",
       "      <td>1.684</td>\n",
       "    </tr>\n",
       "    <tr>\n",
       "      <th>289</th>\n",
       "      <td>Sant Andreu</td>\n",
       "      <td>Sant Andreu de Palomar</td>\n",
       "      <td>2009</td>\n",
       "      <td>55813</td>\n",
       "      <td>82.1</td>\n",
       "      <td>2.058</td>\n",
       "    </tr>\n",
       "    <tr>\n",
       "      <th>290</th>\n",
       "      <td>Sant Andreu</td>\n",
       "      <td>Sant Andreu de Palomar</td>\n",
       "      <td>2010</td>\n",
       "      <td>55813</td>\n",
       "      <td>78.6</td>\n",
       "      <td>1.949</td>\n",
       "    </tr>\n",
       "    <tr>\n",
       "      <th>291</th>\n",
       "      <td>Sant Andreu</td>\n",
       "      <td>Sant Andreu de Palomar</td>\n",
       "      <td>2008</td>\n",
       "      <td>55638</td>\n",
       "      <td>84.1</td>\n",
       "      <td>2.597</td>\n",
       "    </tr>\n",
       "  </tbody>\n",
       "</table>\n",
       "<p>292 rows × 6 columns</p>\n",
       "</div>"
      ],
      "text/plain": [
       "           district                    neighborhood  year    pop    RFD  \\\n",
       "0          Eixample  La Nova Esquerra de l'Eixample  2011  57659  107.7   \n",
       "1          Eixample  La Nova Esquerra de l'Eixample  2009  58559  114.3   \n",
       "2          Eixample  La Nova Esquerra de l'Eixample  2010  58247  115.2   \n",
       "3          Eixample  La Nova Esquerra de l'Eixample  2008  58412  116.6   \n",
       "4        Sant Martí   La Vila Olímpica del Poblenou  2011   9191  146.0   \n",
       "..              ...                             ...   ...    ...    ...   \n",
       "287  Sants-Montjuïc       \"El Poble-sec, Barcelona\"  2008  40381   70.8   \n",
       "288     Sant Andreu          Sant Andreu de Palomar  2011  55902   78.0   \n",
       "289     Sant Andreu          Sant Andreu de Palomar  2009  55813   82.1   \n",
       "290     Sant Andreu          Sant Andreu de Palomar  2010  55813   78.6   \n",
       "291     Sant Andreu          Sant Andreu de Palomar  2008  55638   84.1   \n",
       "\n",
       "    preu_m2  \n",
       "0     2.314  \n",
       "1     2.973  \n",
       "2     2.802  \n",
       "3     3.337  \n",
       "4     2.377  \n",
       "..      ...  \n",
       "287   2.817  \n",
       "288   1.684  \n",
       "289   2.058  \n",
       "290   1.949  \n",
       "291   2.597  \n",
       "\n",
       "[292 rows x 6 columns]"
      ]
     },
     "execution_count": 20,
     "metadata": {},
     "output_type": "execute_result"
    }
   ],
   "source": [
    "# Join Tables and choose the useful columns\n",
    "merged_df = incomeOpenData[['district','neighborhood','year','pop','RFD']].merge(squareMeterPriceEvolution[['district','neighborhood','year','preu_m2']], on=['district', 'year','neighborhood'])\n",
    "merged_df"
   ]
  },
  {
   "cell_type": "code",
   "execution_count": 21,
   "metadata": {},
   "outputs": [],
   "source": [
    "# Clean data type and format\n",
    "merged_df['preu_m2'].replace('null', np.nan, inplace=True)\n",
    "merged_df['preu_m2'] = merged_df['preu_m2'].astype(float)"
   ]
  },
  {
   "cell_type": "code",
   "execution_count": 22,
   "metadata": {},
   "outputs": [],
   "source": [
    "# Missing values imputation\n",
    "if merged_df['RFD'].isnull().values.any() == True:\n",
    "    merged_df['RFD'].fillna(merged_df['RFD'].mean(), inplace=True)\n",
    "\n",
    "if merged_df['preu_m2'].isnull().values.any() == True:\n",
    "    merged_df['preu_m2'].fillna(merged_df['preu_m2'].mean(), inplace=True)"
   ]
  },
  {
   "cell_type": "code",
   "execution_count": 23,
   "metadata": {},
   "outputs": [],
   "source": [
    "# Split the dataframes to apply different transformations\n",
    "model_df = merged_df[['district','year','RFD','pop','preu_m2']]\n",
    "dashboards_df = merged_df[['district','neighborhood','year','RFD','preu_m2']]"
   ]
  },
  {
   "cell_type": "code",
   "execution_count": 24,
   "metadata": {},
   "outputs": [
    {
     "name": "stderr",
     "output_type": "stream",
     "text": [
      "C:\\Users\\jordi\\AppData\\Local\\Temp\\ipykernel_16256\\164989798.py:3: SettingWithCopyWarning: \n",
      "A value is trying to be set on a copy of a slice from a DataFrame.\n",
      "Try using .loc[row_indexer,col_indexer] = value instead\n",
      "\n",
      "See the caveats in the documentation: https://pandas.pydata.org/pandas-docs/stable/user_guide/indexing.html#returning-a-view-versus-a-copy\n",
      "  model_df['RFD'] = scaler.fit_transform(model_df[['RFD']])\n",
      "C:\\Users\\jordi\\AppData\\Local\\Temp\\ipykernel_16256\\164989798.py:4: SettingWithCopyWarning: \n",
      "A value is trying to be set on a copy of a slice from a DataFrame.\n",
      "Try using .loc[row_indexer,col_indexer] = value instead\n",
      "\n",
      "See the caveats in the documentation: https://pandas.pydata.org/pandas-docs/stable/user_guide/indexing.html#returning-a-view-versus-a-copy\n",
      "  model_df['preu_m2'] = scaler.fit_transform(model_df[['preu_m2']])\n"
     ]
    }
   ],
   "source": [
    "# Normalization\n",
    "scaler = MinMaxScaler()\n",
    "model_df['RFD'] = scaler.fit_transform(model_df[['RFD']])\n",
    "model_df['preu_m2'] = scaler.fit_transform(model_df[['preu_m2']])"
   ]
  },
  {
   "cell_type": "code",
   "execution_count": 25,
   "metadata": {},
   "outputs": [],
   "source": [
    "# One hot encoding for model dataframe\n",
    "model_df = pd.get_dummies(model_df, columns=['district'])\n"
   ]
  },
  {
   "cell_type": "code",
   "execution_count": 26,
   "metadata": {},
   "outputs": [],
   "source": [
    "# Save the dashboard dataset in a csv file\n",
    "dashboards_df.to_csv('./ExploitationZone/Dashboard/dashboard.csv', index=False)\n",
    "\n",
    "# Save the model dataset in a csv file\n",
    "model_df.to_csv('./ExploitationZone/Model/model.csv', index=False)"
   ]
  }
 ],
 "metadata": {
  "kernelspec": {
   "display_name": "Python 3",
   "language": "python",
   "name": "python3"
  },
  "language_info": {
   "codemirror_mode": {
    "name": "ipython",
    "version": 3
   },
   "file_extension": ".py",
   "mimetype": "text/x-python",
   "name": "python",
   "nbconvert_exporter": "python",
   "pygments_lexer": "ipython3",
   "version": "3.10.11"
  },
  "orig_nbformat": 4
 },
 "nbformat": 4,
 "nbformat_minor": 2
}
