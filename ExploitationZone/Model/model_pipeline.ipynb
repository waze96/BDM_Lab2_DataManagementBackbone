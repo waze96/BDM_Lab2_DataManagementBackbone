{
 "cells": [
  {
   "cell_type": "code",
   "execution_count": 1,
   "metadata": {},
   "outputs": [],
   "source": [
    "from pyspark.sql import SparkSession\n",
    "from pyspark.ml.regression import (LinearRegression, DecisionTreeRegressor,\n",
    "                                   RandomForestRegressor, GBTRegressor, GeneralizedLinearRegression)\n",
    "from pyspark.ml.evaluation import RegressionEvaluator\n",
    "from pyspark.ml.tuning import ParamGridBuilder, CrossValidator\n",
    "from pyspark.ml.feature import VectorAssembler"
   ]
  },
  {
   "cell_type": "code",
   "execution_count": 2,
   "metadata": {},
   "outputs": [],
   "source": [
    "# Create a Spark session\n",
    "spark = SparkSession.builder.appName(\"ModelTesting\").getOrCreate()\n",
    "\n",
    "# Import data from a CSV file\n",
    "df = spark.read.csv('model.csv', header=True, inferSchema=True, nullValue='null')\n",
    "\n",
    "# List of feature columns\n",
    "feature_cols = df.columns\n",
    "feature_cols.remove('preu_m2')\n",
    "\n",
    "# Setup VectorAssembler\n",
    "assembler = VectorAssembler(inputCols=feature_cols, outputCol='features')\n",
    "\n",
    "# Transform the data\n",
    "df = assembler.transform(df)"
   ]
  },
  {
   "cell_type": "code",
   "execution_count": 3,
   "metadata": {},
   "outputs": [],
   "source": [
    "# Define the models\n",
    "lr = LinearRegression(featuresCol='features', labelCol='preu_m2')\n",
    "dt = DecisionTreeRegressor(featuresCol='features', labelCol='preu_m2')\n",
    "rf = RandomForestRegressor(featuresCol='features', labelCol='preu_m2')\n",
    "gbt = GBTRegressor(featuresCol='features', labelCol='preu_m2')\n",
    "glr = GeneralizedLinearRegression(featuresCol='features', labelCol='preu_m2')\n",
    "\n",
    "# Define the hyperparameter grids\n",
    "lr_paramGrid = ParamGridBuilder().addGrid(lr.regParam, [0.1, 0.01]).build()\n",
    "dt_paramGrid = ParamGridBuilder().addGrid(dt.maxDepth, [5, 10]).build()\n",
    "rf_paramGrid = ParamGridBuilder().addGrid(rf.numTrees, [10, 50]).build()\n",
    "gbt_paramGrid = ParamGridBuilder().addGrid(gbt.maxIter, [10, 50]).build()\n",
    "glr_paramGrid = ParamGridBuilder().addGrid(glr.regParam, [0.1, 0.01]).build()\n",
    "\n",
    "# Define the evaluator\n",
    "evaluator = RegressionEvaluator(predictionCol='prediction', labelCol='preu_m2', metricName='rmse')\n",
    "\n",
    "# Define the cross-validators\n",
    "lr_cv = CrossValidator(estimator=lr, estimatorParamMaps=lr_paramGrid, evaluator=evaluator, numFolds=3)\n",
    "dt_cv = CrossValidator(estimator=dt, estimatorParamMaps=dt_paramGrid, evaluator=evaluator, numFolds=3)\n",
    "rf_cv = CrossValidator(estimator=rf, estimatorParamMaps=rf_paramGrid, evaluator=evaluator, numFolds=3)\n",
    "gbt_cv = CrossValidator(estimator=gbt, estimatorParamMaps=gbt_paramGrid, evaluator=evaluator, numFolds=3)\n",
    "glr_cv = CrossValidator(estimator=glr, estimatorParamMaps=glr_paramGrid, evaluator=evaluator, numFolds=3)\n",
    "\n",
    "# Split the data into training, validation, and test sets\n",
    "train_data, val_data, test_data = df.randomSplit([0.6, 0.2, 0.2])\n",
    "\n",
    "# Train the models and select the best hyperparameters\n",
    "lr_model = lr_cv.fit(train_data)\n",
    "dt_model = dt_cv.fit(train_data)\n",
    "rf_model = rf_cv.fit(train_data)\n",
    "gbt_model = gbt_cv.fit(train_data)\n",
    "glr_model = glr_cv.fit(train_data)\n",
    "\n",
    "# Use the trained models to make predictions with the test data\n",
    "lr_predictions = lr_model.transform(test_data)\n",
    "dt_predictions = dt_model.transform(test_data)\n",
    "rf_predictions = rf_model.transform(test_data)\n",
    "gbt_predictions = gbt_model.transform(test_data)\n",
    "glr_predictions = glr_model.transform(test_data)\n",
    "\n",
    "# Evaluate the models with the test data\n",
    "lr_rmse = evaluator.evaluate(lr_predictions)\n",
    "dt_rmse = evaluator.evaluate(dt_predictions)\n",
    "rf_rmse = evaluator.evaluate(rf_predictions)\n",
    "gbt_rmse = evaluator.evaluate(gbt_predictions)\n",
    "glr_rmse = evaluator.evaluate(glr_predictions)"
   ]
  },
  {
   "cell_type": "code",
   "execution_count": 4,
   "metadata": {},
   "outputs": [
    {
     "name": "stdout",
     "output_type": "stream",
     "text": [
      "Linear Regression RMSE: 0.11087159878819784\n",
      "Decision Tree RMSE: 0.1417958217880638\n",
      "Random Forest RMSE: 0.10892708221753178\n",
      "Gradient Boosted Tree RMSE: 0.11081088314438982\n",
      "Generalized Linear Regression RMSE: 0.11087159878819784\n"
     ]
    }
   ],
   "source": [
    "print('Linear Regression RMSE:', lr_rmse)\n",
    "print('Decision Tree RMSE:', dt_rmse)\n",
    "print('Random Forest RMSE:', rf_rmse)\n",
    "print('Gradient Boosted Tree RMSE:', gbt_rmse)\n",
    "print('Generalized Linear Regression RMSE:', glr_rmse)"
   ]
  }
 ],
 "metadata": {
  "kernelspec": {
   "display_name": "Python 3",
   "language": "python",
   "name": "python3"
  },
  "language_info": {
   "codemirror_mode": {
    "name": "ipython",
    "version": 3
   },
   "file_extension": ".py",
   "mimetype": "text/x-python",
   "name": "python",
   "nbconvert_exporter": "python",
   "pygments_lexer": "ipython3",
   "version": "3.10.11"
  },
  "orig_nbformat": 4
 },
 "nbformat": 4,
 "nbformat_minor": 2
}
